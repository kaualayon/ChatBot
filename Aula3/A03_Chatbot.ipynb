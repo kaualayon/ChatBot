{
 "cells": [
  {
   "cell_type": "code",
   "execution_count": 1,
   "metadata": {},
   "outputs": [
    {
     "name": "stdout",
     "output_type": "stream",
     "text": [
      "Defaulting to user installation because normal site-packages is not writeable\n",
      "Requirement already satisfied: groq in c:\\users\\dsadm\\appdata\\roaming\\python\\python313\\site-packages (0.18.0)\n",
      "Requirement already satisfied: anyio<5,>=3.5.0 in c:\\users\\dsadm\\appdata\\roaming\\python\\python313\\site-packages (from groq) (4.8.0)\n",
      "Requirement already satisfied: distro<2,>=1.7.0 in c:\\users\\dsadm\\appdata\\roaming\\python\\python313\\site-packages (from groq) (1.9.0)\n",
      "Requirement already satisfied: httpx<1,>=0.23.0 in c:\\users\\dsadm\\appdata\\roaming\\python\\python313\\site-packages (from groq) (0.28.1)\n",
      "Requirement already satisfied: pydantic<3,>=1.9.0 in c:\\users\\dsadm\\appdata\\roaming\\python\\python313\\site-packages (from groq) (2.10.6)\n",
      "Requirement already satisfied: sniffio in c:\\users\\dsadm\\appdata\\roaming\\python\\python313\\site-packages (from groq) (1.3.1)\n",
      "Requirement already satisfied: typing-extensions<5,>=4.10 in c:\\users\\dsadm\\appdata\\roaming\\python\\python313\\site-packages (from groq) (4.12.2)\n",
      "Requirement already satisfied: idna>=2.8 in c:\\users\\dsadm\\appdata\\roaming\\python\\python313\\site-packages (from anyio<5,>=3.5.0->groq) (3.10)\n",
      "Requirement already satisfied: certifi in c:\\users\\dsadm\\appdata\\roaming\\python\\python313\\site-packages (from httpx<1,>=0.23.0->groq) (2025.1.31)\n",
      "Requirement already satisfied: httpcore==1.* in c:\\users\\dsadm\\appdata\\roaming\\python\\python313\\site-packages (from httpx<1,>=0.23.0->groq) (1.0.7)\n",
      "Requirement already satisfied: h11<0.15,>=0.13 in c:\\users\\dsadm\\appdata\\roaming\\python\\python313\\site-packages (from httpcore==1.*->httpx<1,>=0.23.0->groq) (0.14.0)\n",
      "Requirement already satisfied: annotated-types>=0.6.0 in c:\\users\\dsadm\\appdata\\roaming\\python\\python313\\site-packages (from pydantic<3,>=1.9.0->groq) (0.7.0)\n",
      "Requirement already satisfied: pydantic-core==2.27.2 in c:\\users\\dsadm\\appdata\\roaming\\python\\python313\\site-packages (from pydantic<3,>=1.9.0->groq) (2.27.2)\n"
     ]
    },
    {
     "name": "stderr",
     "output_type": "stream",
     "text": [
      "\n",
      "[notice] A new release of pip is available: 24.3.1 -> 25.0.1\n",
      "[notice] To update, run: python.exe -m pip install --upgrade pip\n"
     ]
    }
   ],
   "source": [
    "# instalaçao da biblioteca Groq\n",
    "!pip install groq"
   ]
  },
  {
   "cell_type": "code",
   "execution_count": 2,
   "metadata": {},
   "outputs": [],
   "source": [
    "from groq import Groq # realiza a importaçao da biblioteca necessaria para rodar a LLM\n",
    "#Inicializa o cliente com a chave da \n",
    "client = Groq(api_key='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')\n",
    "completion = client.chat.completions.create(\n",
    "  model=\"llama3-8b-8192\",\n",
    "  messages=[\n",
    "     {\"role\":\"system\",\"content\":\"Voce é assistente de agricultor\"},\n",
    "     {\"role\":\"user\",\"content\":\"Qual a semente indicada para \\n no solo arenoso em maio\"}\n",
    "\n",
    "  ],  \n",
    "  temperature=0,\n",
    "  max_tokens=1024, #ajusta o token,\n",
    "  top_p=1,\n",
    "  stream = False\n",
    "\n",
    ")"
   ]
  },
  {
   "cell_type": "code",
   "execution_count": 3,
   "metadata": {},
   "outputs": [
    {
     "name": "stdout",
     "output_type": "stream",
     "text": [
      "Um excelente questionário!\n",
      "\n",
      "Para um solo arenoso em maio, eu recomendaria sementes que sejam resistentes à seca e ao calor, pois esses solos tendem a secar rapidamente e podem ser afetados por temperaturas elevadas.\n",
      "\n",
      "Aqui estão algumas opções de sementes que devem se adaptar bem a um solo arenoso em maio:\n",
      "\n",
      "1. Sementes de milho: O milho é uma cultura comum em solos arenosos e é resistente à seca. Ele também é uma boa opção para maio, pois o clima é geralmente mais quente e seco nessa época do ano.\n",
      "2. Sementes de feijão: O feijão é outro grão que se adapta bem a solos arenosos e é resistente à seca. Ele também é uma boa opção para maio, pois o clima é geralmente mais quente e seco nessa época do ano.\n",
      "3. Sementes de soja: A soja é uma cultura comum em solos arenosos e é resistente à seca. Ela também é uma boa opção para maio, pois o clima é geralmente mais quente e seco nessa época do ano.\n",
      "4. Sementes de alfafa: A alfafa é uma cultura que se adapta bem a solos arenosos e é resistente à seca. Ela também é uma boa opção para maio, pois o clima é geralmente mais quente e seco nessa época do ano.\n",
      "5. Sementes de trigo: O trigo é uma cultura comum em solos arenosos e é resistente à seca. Ele também é uma boa opção para maio, pois o clima é geralmente mais quente e seco nessa época do ano.\n",
      "\n",
      "Lembre-se de que é importante verificar as condições climáticas locais e as necessidades específicas da cultura que você deseja cultivar antes de plantar. Além disso, é sempre recomendável consultar um especialista em agricultura ou um consultor agrícola para obter orientação mais específica para o seu local.\n"
     ]
    }
   ],
   "source": [
    "\n",
    "# exibe a resposta gerada\n",
    "print(completion.choices[0].message.content)"
   ]
  },
  {
   "cell_type": "code",
   "execution_count": 4,
   "metadata": {},
   "outputs": [],
   "source": [
    "import os # biblioteca do sistema operacional\n",
    "from groq import Groq"
   ]
  },
  {
   "cell_type": "code",
   "execution_count": null,
   "metadata": {},
   "outputs": [
    {
     "name": "stdout",
     "output_type": "stream",
     "text": [
      "\n",
      " Resposta do assistente: \n",
      "\n",
      "Cultivar em solo argiloso! Isso pode ser um desafio, mas com os seguintes passos, você pode obter resultados satisfatórios. Aqui estão os passos para cultivar em solo argiloso:\n",
      "\n",
      "**1. Análise do solo**: Antes de começar a cultivar, é importante analisar o solo para entender suas características. O solo argiloso é rico em argila, que é um tipo de minério que pode afetar a estrutura e a fertilidade do solo.\n",
      "\n",
      "**2. Adição de materiais orgânicos**: Adicione materiais orgânicos como compostos, esterco de animais ou folhas secas ao solo para melhorar sua estrutura e fertilidade. Isso ajudará a aumentar a porosidade do solo e a melhorar a capacidade de retenção de água.\n",
      "\n",
      "**3. Tratamento com cal**: O solo argiloso é muitas vezes ácido, o que pode afetar a saúde das plantas. Adicione cal (calcário) ao solo para ajustar o pH e torná-lo mais neutro.\n",
      "\n",
      "**4. Seleção de culturas**: Escolha culturas que sejam resistentes ao solo argiloso e que não tenham necessidades específicas de solo. Algumas culturas, como a soja e o milho, são mais adequadas para solo argiloso.\n",
      "\n",
      "**5. Preparo do solo**: Prepare o solo para a plantio, removendo qualquer material orgânico ou inorgânico que possa estar presente. Use um arado ou uma pá para nivelar o solo e criar um sulco profundo.\n",
      "\n",
      "**6. Plantio**: Plantie as sementes ou mudas no solo preparado, seguindo as diretrizes de plantio específicas para a cultura que você está cultivando.\n",
      "\n",
      "**7. Riego**: O solo argiloso pode ser propenso a seca, então é importante garantir que o solo esteja bem irrigado. Use um sistema de irrigação eficiente para fornecer água ao solo.\n",
      "\n",
      "**8. Monitoramento**: Monitore o solo e as plantas regularmente para detectar qualquer problema de saúde ou doença. Tome medidas corretivas rapidamente para evitar danos graves.\n",
      "\n",
      "**9. Adição de fertilizantes**: Adicione fertilizantes orgânicos ou inorgânicos ao solo para fornecer nutrientes às plantas. No entanto, é importante evitar a sobre-fertilização, pois isso pode danificar o solo.\n",
      "\n",
      "**10. Manutenção**: Manter o solo argiloso saudável e produtivo é fundamental. Realize regularmente a manutenção do solo, incluindo a remoção de plantas daninhas e a aplicação de fertilizantes e pesticidas, se necessário.\n",
      "\n",
      "Lembre-se de que cultivar em solo argiloso pode ser um desafio, mas com paciência, dedicação e conhecimento, você pode obter resultados satisfatórios.\n",
      "\n"
     ]
    }
   ],
   "source": [
    "#Define sua chave da API do GROQ\n",
    "GROQ_API_KEY = os.getenv('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')\n",
    "client = Groq(api_key='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')\n",
    "\n",
    "#Solicita que o usuario digite o prompt\n",
    "\n",
    "user_prompt=input(\"Digite sua pergunta sobre agricultura: \")\n",
    "\n",
    "# Faz a solicitaçao ao modelo\n",
    "completion = client.chat.completions.create(\n",
    "  model=\"llama3-8b-8192\",\n",
    "  messages=[\n",
    "     {\"role\":\"system\",\"content\":\"Voce é assistente de agricultor\"}, # local aonde vc coloca a função do assitente (Oque ele é/ o contexto)\n",
    "     {\"role\":\"user\",\"content\":user_prompt}\n",
    "\n",
    "  ],  \n",
    "  temperature=0,\n",
    "  max_tokens=1024, #ajusta o token,\n",
    "  \n",
    "  top_p=1,\n",
    "  stream = False\n",
    "\n",
    ")\n",
    "# Exibe a resposta \n",
    "print('\\n Resposta do assistente: \\n')\n",
    "print(completion.choices[0].message.content + \"\\n\")"
   ]
  },
  {
   "cell_type": "code",
   "execution_count": 8,
   "metadata": {},
   "outputs": [
    {
     "name": "stdout",
     "output_type": "stream",
     "text": [
      "\n",
      " Resposta do assistente: \n",
      "\n",
      "Uma pergunta interessante!\n",
      "\n",
      "Para comparar a economia entre uma Kawasaki Z1000 (1100cc) e uma Honda Hornet 600 (600cc), vamos considerar alguns fatores importantes:\n",
      "\n",
      "1. Consumo de combustível: O consumo de combustível é diretamente relacionado à economia. De acordo com os dados oficiais, a Kawasaki Z1000 tem um consumo médio de 7,4 km/l (ciclo urbano) e 5,5 km/l (ciclo estrada), enquanto a Honda Hornet 600 tem um consumo médio de 7,1 km/l (ciclo urbano) e 5,2 km/l (ciclo estrada).\n",
      "2. Potência e torque: A Kawasaki Z1000 tem uma potência máxima de 140 cv e um torque máximo de 111 Nm, enquanto a Honda Hornet 600 tem uma potência máxima de 82 cv e um torque máximo de 62 Nm. Isso significa que a Z1000 é mais potente e tem mais torque, o que pode afetar o consumo de combustível.\n",
      "3. Peso e aerodinâmica: O peso e a aerodinâmica também podem influenciar o consumo de combustível. A Kawasaki Z1000 tem um peso de 236 kg, enquanto a Honda Hornet 600 tem um peso de 184 kg. Além disso, a Z1000 tem um coeficiente de arrasto (CdA) mais alto do que a Hornet 600, o que pode aumentar o consumo de combustível.\n",
      "\n",
      "Considerando esses fatores, podemos concluir que:\n",
      "\n",
      "* A Honda Hornet 600 é mais econômica do que a Kawasaki Z1000, especialmente em ciclos urbanos, onde o consumo médio da Hornet 600 é de 7,1 km/l, enquanto a Z1000 é de 7,4 km/l.\n",
      "* No entanto, a Kawasaki Z1000 é mais potente e tem mais torque, o que pode compensar o consumo de combustível em certos casos.\n",
      "* A escolha entre as duas motos depende do seu estilo de condução e das suas necessidades específicas. Se você prioriza a economia e um carro mais leve, a Honda Hornet 600 pode ser uma boa escolha. Se você prefere uma moto mais potente e desempenho, a Kawasaki Z1000 pode ser uma opção mais adequada.\n",
      "\n",
      "Lembre-se de que esses são apenas dados teóricos e que o consumo real de combustível pode variar dependendo de fatores como a condução, o estado de manutenção da moto e as condições de trânsito.\n",
      "\n"
     ]
    }
   ],
   "source": [
    "#Define sua chave da API do GROQ\n",
    "GROQ_API_KEY = os.getenv('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')\n",
    "client = Groq(api_key='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')\n",
    "\n",
    "#Solicita que o usuario digite o prompt\n",
    "\n",
    "user_prompt=input(\"Digite sua pergunta sobre agricultura: \")\n",
    "\n",
    "# Faz a solicitaçao ao modelo\n",
    "completion = client.chat.completions.create(\n",
    "  model=\"llama3-8b-8192\",\n",
    "  messages=[\n",
    "     {\"role\":\"system\",\"content\":\"Voce é assistente de consecionaria\"}, # local aonde vc coloca a função do assitente (Oque ele é/ o contexto)\n",
    "     {\"role\":\"user\",\"content\":user_prompt}\n",
    "\n",
    "  ],  \n",
    "  temperature=0,\n",
    "  max_tokens=1024, #ajusta o token,\n",
    "  \n",
    "  top_p=1,\n",
    "  stream = False\n",
    "\n",
    ")\n",
    "# Exibe a resposta \n",
    "print('\\n Resposta do assistente: \\n')\n",
    "print(completion.choices[0].message.content + \"\\n\")"
   ]
  },
  {
   "cell_type": "code",
   "execution_count": null,
   "metadata": {},
   "outputs": [],
   "source": [
    "#Define sua chave da API do GROQ\n",
    "#GROQ_API_KEY = os.getenv('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')\n",
    "client = Groq(api_key='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')\n",
    "\n",
    "#Solicita que o usuario digite o prompt\n",
    "while True: \n",
    "\n",
    "    user_prompt=input(\"Digite sua pergunta sobre agricultura: \")\n",
    "    if user_prompt.strip() ==\"15\":\n",
    "        print('Encerrando assistente Agro ! Até mais ! \\n')\n",
    "        break\n",
    "    # Faz a solicitaçao ao modelo\n",
    "    completion = client.chat.completions.create(\n",
    "    model=\"llama3-8b-8192\",\n",
    "    messages=[\n",
    "    {\"role\":\"system\",\"content\":\"Voce é assistente de agricultor\"},\n",
    "    {\"role\":\"user\",\"content\":user_prompt}\n",
    "\n",
    "    ],  \n",
    "    temperature=0,\n",
    "    max_tokens=1024, #ajusta o token,\n",
    "    top_p=1,\n",
    "    stream = False\n",
    "\n",
    "    )\n",
    "# Exibe a resposta \n",
    "    print('\\n Resposta do assistente: \\n')\n",
    "    print(completion.choices[0].message.content + \"\\n\")"
   ]
  }
 ],
 "metadata": {
  "kernelspec": {
   "display_name": "Python 3",
   "language": "python",
   "name": "python3"
  },
  "language_info": {
   "codemirror_mode": {
    "name": "ipython",
    "version": 3
   },
   "file_extension": ".py",
   "mimetype": "text/x-python",
   "name": "python",
   "nbconvert_exporter": "python",
   "pygments_lexer": "ipython3",
   "version": "3.13.1"
  }
 },
 "nbformat": 4,
 "nbformat_minor": 2
}
