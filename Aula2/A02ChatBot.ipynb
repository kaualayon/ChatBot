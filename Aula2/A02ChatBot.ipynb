{
 "cells": [
  {
   "cell_type": "code",
   "execution_count": 1,
   "metadata": {},
   "outputs": [
    {
     "name": "stdout",
     "output_type": "stream",
     "text": [
      "Defaulting to user installation because normal site-packages is not writeable\n",
      "Requirement already satisfied: groq in c:\\users\\dsadm\\appdata\\roaming\\python\\python313\\site-packages (0.18.0)\n",
      "Requirement already satisfied: anyio<5,>=3.5.0 in c:\\users\\dsadm\\appdata\\roaming\\python\\python313\\site-packages (from groq) (4.8.0)\n",
      "Requirement already satisfied: distro<2,>=1.7.0 in c:\\users\\dsadm\\appdata\\roaming\\python\\python313\\site-packages (from groq) (1.9.0)\n",
      "Requirement already satisfied: httpx<1,>=0.23.0 in c:\\users\\dsadm\\appdata\\roaming\\python\\python313\\site-packages (from groq) (0.28.1)\n",
      "Requirement already satisfied: pydantic<3,>=1.9.0 in c:\\users\\dsadm\\appdata\\roaming\\python\\python313\\site-packages (from groq) (2.10.6)\n",
      "Requirement already satisfied: sniffio in c:\\users\\dsadm\\appdata\\roaming\\python\\python313\\site-packages (from groq) (1.3.1)\n",
      "Requirement already satisfied: typing-extensions<5,>=4.10 in c:\\users\\dsadm\\appdata\\roaming\\python\\python313\\site-packages (from groq) (4.12.2)\n",
      "Requirement already satisfied: idna>=2.8 in c:\\users\\dsadm\\appdata\\roaming\\python\\python313\\site-packages (from anyio<5,>=3.5.0->groq) (3.10)\n",
      "Requirement already satisfied: certifi in c:\\users\\dsadm\\appdata\\roaming\\python\\python313\\site-packages (from httpx<1,>=0.23.0->groq) (2025.1.31)\n",
      "Requirement already satisfied: httpcore==1.* in c:\\users\\dsadm\\appdata\\roaming\\python\\python313\\site-packages (from httpx<1,>=0.23.0->groq) (1.0.7)\n",
      "Requirement already satisfied: h11<0.15,>=0.13 in c:\\users\\dsadm\\appdata\\roaming\\python\\python313\\site-packages (from httpcore==1.*->httpx<1,>=0.23.0->groq) (0.14.0)\n",
      "Requirement already satisfied: annotated-types>=0.6.0 in c:\\users\\dsadm\\appdata\\roaming\\python\\python313\\site-packages (from pydantic<3,>=1.9.0->groq) (0.7.0)\n",
      "Requirement already satisfied: pydantic-core==2.27.2 in c:\\users\\dsadm\\appdata\\roaming\\python\\python313\\site-packages (from pydantic<3,>=1.9.0->groq) (2.27.2)\n"
     ]
    },
    {
     "name": "stderr",
     "output_type": "stream",
     "text": [
      "\n",
      "[notice] A new release of pip is available: 24.3.1 -> 25.0.1\n",
      "[notice] To update, run: python.exe -m pip install --upgrade pip\n"
     ]
    }
   ],
   "source": [
    "!pip install groq"
   ]
  },
  {
   "cell_type": "code",
   "execution_count": null,
   "metadata": {},
   "outputs": [
    {
     "ename": "ModuleNotFoundError",
     "evalue": "No module named 'llama_index'",
     "output_type": "error",
     "traceback": [
      "\u001b[1;31m---------------------------------------------------------------------------\u001b[0m",
      "\u001b[1;31mModuleNotFoundError\u001b[0m                       Traceback (most recent call last)",
      "Cell \u001b[1;32mIn[3], line 1\u001b[0m\n\u001b[1;32m----> 1\u001b[0m \u001b[38;5;28;01mfrom\u001b[39;00m\u001b[38;5;250m \u001b[39m\u001b[38;5;21;01mllama_index\u001b[39;00m\u001b[38;5;21;01m.\u001b[39;00m\u001b[38;5;21;01mllms\u001b[39;00m\u001b[38;5;21;01m.\u001b[39;00m\u001b[38;5;21;01mgroq\u001b[39;00m\u001b[38;5;250m \u001b[39m\u001b[38;5;28;01mimport\u001b[39;00m Groq\n",
      "\u001b[1;31mModuleNotFoundError\u001b[0m: No module named 'llama_index'"
     ]
    }
   ],
   "source": [
    "from llama_index.llms.groq import Groq"
   ]
  },
  {
   "cell_type": "code",
   "execution_count": null,
   "metadata": {},
   "outputs": [],
   "source": [
    "!pip install llama_index.llms.groq"
   ]
  },
  {
   "cell_type": "code",
   "execution_count": null,
   "metadata": {},
   "outputs": [],
   "source": [
    "#GROQ_API_KEY = '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'"
   ]
  },
  {
   "cell_type": "code",
   "execution_count": null,
   "metadata": {},
   "outputs": [],
   "source": [
    "groq_api_key = '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'"
   ]
  },
  {
   "cell_type": "code",
   "execution_count": null,
   "metadata": {},
   "outputs": [],
   "source": [
    "llm = Groq(model='llama3-70b-8192',api_key=groq_api_key)"
   ]
  },
  {
   "cell_type": "code",
   "execution_count": null,
   "metadata": {},
   "outputs": [],
   "source": [
    "response = llm.complete('Qual semente é indicada para o solo arenoso em maio')"
   ]
  },
  {
   "cell_type": "code",
   "execution_count": null,
   "metadata": {},
   "outputs": [
    {
     "name": "stdout",
     "output_type": "stream",
     "text": [
      "Excelente pergunta!\n",
      "\n",
      "\n",
      "Para solo arenoso em maio, é importante escolher sementes que sejam resistentes à seca e ao calor, pois o solo arenoso tende a esquentar rapidamente e perder água rapidamente. Aqui estão algumas opções de sementes que são indicadas para solo arenoso em maio:\n",
      "\n",
      "\n",
      "1. **Feijão**: Feijão é uma excelente opção para solo arenoso em maio. Ele é resistente à seca e ao calor, e pode crescer bem em solos arenosos.\n",
      "2. **Milho**: O milho é outra opção que se adapta bem ao solo arenoso em maio. Ele é resistente à seca e ao calor, e pode crescer rapidamente em solos arenosos.\n",
      "3. **Abobrinha**: A abobrinha é uma hortaliça que se adapta bem ao solo arenoso em maio. Ela é resistente à seca e ao calor, e pode crescer rapidamente em solos arenosos.\n",
      "4. **Pepino**: O pepino é outra opção que se adapta bem ao solo arenoso em maio. Ele é resistente à seca e ao calor, e pode crescer rapidamente em solos arenosos.\n",
      "5. **Cebola**: A cebola é uma opção que se adapta bem ao solo arenoso em maio. Ela é resistente à seca e ao calor, e pode crescer bem em solos arenosos.\n",
      "\n",
      "\n",
      "Lembre-se de que, independentemente da semente escolhida, é importante:\n",
      "\n",
      "\n",
      "* Preparar o solo antes de semear, adicionando matéria orgânica e fertilizantes para melhorar a estrutura do solo e a disponibilidade de nutrientes.\n",
      "* Manter o solo úmido, mas não encharcado, para evitar a perda de água e a erosão do solo.\n",
      "* Fornecer sombra para as plantas, especialmente durante o período mais quente do dia, para evitar o estresse térmico.\n",
      "\n",
      "\n",
      "Espero que essas dicas tenham ajudado!\n",
      "\n",
      "\n"
     ]
    }
   ],
   "source": [
    "paragrafos = response.text.split(\"\\n\\n\")\n",
    "for paragrafo in paragrafos:\n",
    "  print(paragrafo)\n",
    "  print(\"\\n\")"
   ]
  }
 ],
 "metadata": {
  "kernelspec": {
   "display_name": "Python 3",
   "language": "python",
   "name": "python3"
  },
  "language_info": {
   "codemirror_mode": {
    "name": "ipython",
    "version": 3
   },
   "file_extension": ".py",
   "mimetype": "text/x-python",
   "name": "python",
   "nbconvert_exporter": "python",
   "pygments_lexer": "ipython3",
   "version": "3.13.1"
  }
 },
 "nbformat": 4,
 "nbformat_minor": 2
}
